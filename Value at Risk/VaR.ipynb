{
 "cells": [
  {
   "cell_type": "markdown",
   "id": "8bd3306f",
   "metadata": {},
   "source": [
    "**Value at Risk Calculation Using yfinance data**\n",
    "\n",
    "**Prepared By:**\n",
    "Rahul Joshi"
   ]
  },
  {
   "cell_type": "markdown",
   "id": "6ddf06c3",
   "metadata": {},
   "source": [
    "1. Calculation of VaR using historical method:\n",
    "(Assuming Porfolio Value = $1M)"
   ]
  },
  {
   "cell_type": "code",
   "execution_count": 80,
   "id": "9ec239b2",
   "metadata": {},
   "outputs": [
    {
     "name": "stderr",
     "output_type": "stream",
     "text": [
      "[*********************100%***********************]  1 of 1 completed"
     ]
    },
    {
     "name": "stdout",
     "output_type": "stream",
     "text": [
      "The 1-Day VaR at 95% Confidence Interval for Portfolio Value $1,000,000 is: $50,308.74\n",
      "The 1-Day VaR at 99% Confidence Interval for Portfolio Value $1,000,000 is: $93,003.10\n"
     ]
    },
    {
     "name": "stderr",
     "output_type": "stream",
     "text": [
      "\n"
     ]
    },
    {
     "data": {
      "text/html": [
       "<div>\n",
       "<style scoped>\n",
       "    .dataframe tbody tr th:only-of-type {\n",
       "        vertical-align: middle;\n",
       "    }\n",
       "\n",
       "    .dataframe tbody tr th {\n",
       "        vertical-align: top;\n",
       "    }\n",
       "\n",
       "    .dataframe thead tr th {\n",
       "        text-align: left;\n",
       "    }\n",
       "\n",
       "    .dataframe thead tr:last-of-type th {\n",
       "        text-align: right;\n",
       "    }\n",
       "</style>\n",
       "<table border=\"1\" class=\"dataframe\">\n",
       "  <thead>\n",
       "    <tr>\n",
       "      <th>Price</th>\n",
       "      <th>Close</th>\n",
       "      <th>High</th>\n",
       "      <th>Low</th>\n",
       "      <th>Open</th>\n",
       "      <th>Volume</th>\n",
       "      <th>Return</th>\n",
       "    </tr>\n",
       "    <tr>\n",
       "      <th>Ticker</th>\n",
       "      <th>TSLA</th>\n",
       "      <th>TSLA</th>\n",
       "      <th>TSLA</th>\n",
       "      <th>TSLA</th>\n",
       "      <th>TSLA</th>\n",
       "      <th></th>\n",
       "    </tr>\n",
       "    <tr>\n",
       "      <th>Date</th>\n",
       "      <th></th>\n",
       "      <th></th>\n",
       "      <th></th>\n",
       "      <th></th>\n",
       "      <th></th>\n",
       "      <th></th>\n",
       "    </tr>\n",
       "  </thead>\n",
       "  <tbody>\n",
       "    <tr>\n",
       "      <th>2023-01-03</th>\n",
       "      <td>108.099998</td>\n",
       "      <td>118.800003</td>\n",
       "      <td>104.639999</td>\n",
       "      <td>118.470001</td>\n",
       "      <td>231402800</td>\n",
       "      <td>NaN</td>\n",
       "    </tr>\n",
       "    <tr>\n",
       "      <th>2023-01-04</th>\n",
       "      <td>113.639999</td>\n",
       "      <td>114.589996</td>\n",
       "      <td>107.519997</td>\n",
       "      <td>109.110001</td>\n",
       "      <td>180389000</td>\n",
       "      <td>0.051249</td>\n",
       "    </tr>\n",
       "    <tr>\n",
       "      <th>2023-01-05</th>\n",
       "      <td>110.339996</td>\n",
       "      <td>111.750000</td>\n",
       "      <td>107.160004</td>\n",
       "      <td>110.510002</td>\n",
       "      <td>157986300</td>\n",
       "      <td>-0.029039</td>\n",
       "    </tr>\n",
       "    <tr>\n",
       "      <th>2023-01-06</th>\n",
       "      <td>113.059998</td>\n",
       "      <td>114.389999</td>\n",
       "      <td>101.809998</td>\n",
       "      <td>103.000000</td>\n",
       "      <td>220911100</td>\n",
       "      <td>0.024651</td>\n",
       "    </tr>\n",
       "    <tr>\n",
       "      <th>2023-01-09</th>\n",
       "      <td>119.769997</td>\n",
       "      <td>123.519997</td>\n",
       "      <td>117.110001</td>\n",
       "      <td>118.959999</td>\n",
       "      <td>190284000</td>\n",
       "      <td>0.059349</td>\n",
       "    </tr>\n",
       "  </tbody>\n",
       "</table>\n",
       "</div>"
      ],
      "text/plain": [
       "Price            Close        High         Low        Open     Volume  \\\n",
       "Ticker            TSLA        TSLA        TSLA        TSLA       TSLA   \n",
       "Date                                                                    \n",
       "2023-01-03  108.099998  118.800003  104.639999  118.470001  231402800   \n",
       "2023-01-04  113.639999  114.589996  107.519997  109.110001  180389000   \n",
       "2023-01-05  110.339996  111.750000  107.160004  110.510002  157986300   \n",
       "2023-01-06  113.059998  114.389999  101.809998  103.000000  220911100   \n",
       "2023-01-09  119.769997  123.519997  117.110001  118.959999  190284000   \n",
       "\n",
       "Price         Return  \n",
       "Ticker                \n",
       "Date                  \n",
       "2023-01-03       NaN  \n",
       "2023-01-04  0.051249  \n",
       "2023-01-05 -0.029039  \n",
       "2023-01-06  0.024651  \n",
       "2023-01-09  0.059349  "
      ]
     },
     "execution_count": 80,
     "metadata": {},
     "output_type": "execute_result"
    }
   ],
   "source": [
    "import yfinance as yf\n",
    "import math\n",
    "\n",
    "def return_sorted(data):\n",
    "    data['Return'] = (data['Close'] - data['Close'].shift(1))/data['Close'].shift(1)\n",
    "    sorted_returns = data['Return'].dropna().sort_values()\n",
    "    return sorted_returns\n",
    "\n",
    "def VaR(sorted_returns, n, Confidence_Interval):\n",
    "    rank_position = n * (1 - Confidence_Interval/100)\n",
    "    # print(rank_position)\n",
    "    return sorted_returns.iloc[math.ceil(rank_position)-1]\n",
    "\n",
    "data = yf.download(\"TSLA\", start='2023-01-01', end='2024-01-01')\n",
    "portfolio_value = 1000000\n",
    "sorted_returns = return_sorted(data)\n",
    "n = len(sorted_returns)\n",
    "\n",
    "print(f\"The 1-Day VaR at 95% Confidence Interval for Portfolio Value ${portfolio_value:,} is: ${abs(VaR(sorted_returns, n, 95)*portfolio_value):,.2f}\")\n",
    "print(f\"The 1-Day VaR at 99% Confidence Interval for Portfolio Value ${portfolio_value:,} is: ${abs(VaR(sorted_returns, n, 99)*portfolio_value):,.2f}\")\n",
    "data.head()"
   ]
  },
  {
   "cell_type": "markdown",
   "id": "78b85e3f",
   "metadata": {},
   "source": [
    "2. Calculation of VaR using Monte-Carlo method:\n",
    "(Assuming Portfolio Value = $1M)"
   ]
  },
  {
   "cell_type": "code",
   "execution_count": 167,
   "id": "495310ce",
   "metadata": {},
   "outputs": [
    {
     "name": "stderr",
     "output_type": "stream",
     "text": [
      "[*********************100%***********************]  1 of 1 completed"
     ]
    },
    {
     "name": "stdout",
     "output_type": "stream",
     "text": [
      "1-Day 95% Monte Carlo VaR using GBM: $-22,425.34\n",
      "1-Day 99% Monte Carlo VaR using GBM: $-31,707.94\n"
     ]
    },
    {
     "name": "stderr",
     "output_type": "stream",
     "text": [
      "\n",
      "/tmp/ipykernel_81694/1227156206.py:15: FutureWarning: Calling float on a single element Series is deprecated and will raise a TypeError in the future. Use float(ser.iloc[0]) instead\n",
      "  S0 = float(prices.iloc[-1]) # latest price\n"
     ]
    },
    {
     "data": {
      "image/png": "[encoded data removed]",
      "text/plain": [
       "<Figure size 640x480 with 1 Axes>"
      ]
     },
     "metadata": {},
     "output_type": "display_data"
    }
   ],
   "source": [
    "import numpy as np\n",
    "import matplotlib.pyplot as plt\n",
    "\n",
    "ticker = 'AAPL'\n",
    "data2 = yf.download(ticker, start='2023-01-01', end='2024-01-01')\n",
    "prices = data2['Close']\n",
    "\n",
    "log_returns = np.log(prices/prices.shift(1)).dropna()\n",
    "\n",
    "mu = log_returns.mean().item()\n",
    "sigma = log_returns.std().item()\n",
    "\n",
    "# using geometric brownian movement to stimulate price paths\n",
    "no_of_simulations = 10000\n",
    "S0 = float(prices.iloc[-1]) # latest price\n",
    "T = 1 # 1-Day\n",
    "dt = 1 # size of time step\n",
    "\n",
    "# generate random shocks Z ~ N(0,1)\n",
    "Z = np.random.standard_normal(no_of_simulations)\n",
    "\n",
    "# Simulate endprices using GBM\n",
    "simulated_prices = S0 * np.exp((mu - 0.5 * sigma**2) * dt + sigma * np.sqrt(dt) * Z)\n",
    "\n",
    "initial_investment = 1000000\n",
    "simulated_portfolio_values = initial_investment * (simulated_prices/S0)\n",
    "losses = initial_investment - simulated_portfolio_values\n",
    "\n",
    "VaR_95 = np.percentile(losses, 5)\n",
    "VaR_99 = np.percentile(losses, 1)\n",
    "\n",
    "print(f\"1-Day 95% Monte Carlo VaR using GBM: ${VaR_95:,.2f}\")\n",
    "print(f\"1-Day 99% Monte Carlo VaR using GBM: ${VaR_99:,.2f}\")\n",
    "\n",
    "plt.hist(losses, bins=50, color='skyblue', edgecolor='black')\n",
    "plt.axvline(x=VaR_95, color='red', linestyle='--', label=f\"VaR 95% = ${VaR_95:,.2f}\")\n",
    "plt.axvline(x=VaR_99, color='green', linestyle='--', label=f\"VaR 99% = ${VaR_99:,.2f}\")\n",
    "plt.title(f\"Monte Carlo Simulated 1-Day Losses for {ticker} (GBM)\")\n",
    "plt.xlabel(\"Loss ($)\")\n",
    "plt.ylabel(\"Frequency\")\n",
    "plt.legend()\n",
    "plt.grid(True)\n",
    "plt.show()"
   ]
  }
 ],
 "metadata": {
  "kernelspec": {
   "display_name": "my_venv",
   "language": "python",
   "name": "python3"
  },
  "language_info": {
   "codemirror_mode": {
    "name": "ipython",
    "version": 3
   },
   "file_extension": ".py",
   "mimetype": "text/x-python",
   "name": "python",
   "nbconvert_exporter": "python",
   "pygments_lexer": "ipython3",
   "version": "3.13.3"
  }
 },
 "nbformat": 4,
 "nbformat_minor": 5
}
