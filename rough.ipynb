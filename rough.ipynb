{
 "cells": [
  {
   "cell_type": "code",
   "execution_count": 20,
   "metadata": {},
   "outputs": [
    {
     "name": "stderr",
     "output_type": "stream",
     "text": [
      "[*********************100%***********************]  1 of 1 completed\n"
     ]
    },
    {
     "name": "stdout",
     "output_type": "stream",
     "text": [
      "Price        Close    RSI  MACD     SMA     EMA Upper Band Lower Band Strat\n",
      "Ticker        AAPL                                                         \n",
      "Date                                                                       \n",
      "2025-05-13  212.93  60.07 -0.81  203.48  204.49     217.25     189.71     0\n",
      "2025-05-14  212.33  55.35 -0.12  204.01  205.23     218.30     189.71     0\n",
      "2025-05-15  211.45  53.09  0.35  204.88  205.83     218.73     191.03     0\n",
      "2025-05-16  211.26  51.80  0.70  205.60  206.34     219.18     192.03     0\n",
      "2025-05-19  208.78  47.32  0.77  206.40  206.58     218.64     194.16     0\n"
     ]
    },
    {
     "name": "stderr",
     "output_type": "stream",
     "text": [
      "[*********************100%***********************]  1 of 1 completed"
     ]
    },
    {
     "name": "stdout",
     "output_type": "stream",
     "text": [
      "Price        Close    RSI  MACD     SMA     EMA Upper Band Lower Band Strat\n",
      "Ticker       GOOGL                                                         \n",
      "Date                                                                       \n",
      "2025-05-13  159.53  55.33 -0.45  157.26  157.85     166.97     147.56     0\n",
      "2025-05-14  165.37  57.40  0.19  157.72  158.57     168.06     147.37     0\n",
      "2025-05-15  163.96  52.51  0.57  158.25  159.08     168.73     147.76     0\n",
      "2025-05-16  166.19  56.85  1.05  159.00  159.76     169.50     148.50     0\n",
      "2025-05-19  166.54  57.85  1.43  159.94  160.40     169.51     150.38     0\n"
     ]
    },
    {
     "name": "stderr",
     "output_type": "stream",
     "text": [
      "\n"
     ]
    }
   ],
   "source": [
    "import yfinance as yf\n",
    "from datetime import datetime\n",
    "import pandas as pd\n",
    "\n",
    "# pd.set_option('display.max_rows', None)  # Show all rows\n",
    "\n",
    "\n",
    "def calculate_rsi(data, period=14):\n",
    "    data['Price Change'] = data['Close'].diff()\n",
    "\n",
    "    data['Gain'] = data['Price Change'].apply(lambda x: x if x > 0 else 0)\n",
    "    data['Loss'] = data['Price Change'].apply(lambda x: abs(x) if x < 0 else 0)\n",
    "\n",
    "    data['Avg Gain'] = data['Gain'].rolling(window=period, min_periods=1).mean()\n",
    "    data['Avg Loss'] = data['Loss'].rolling(window=period, min_periods=1).mean()\n",
    "\n",
    "    data['RS'] = data['Avg Gain'] / (data['Avg Loss'] + 1e-10)  # div by 0\n",
    "    data['RSI'] = 100 - (100 / (1 + data['RS']))\n",
    "    return data\n",
    "\n",
    "def macd(data, long_period=26, short_period=12, signal_period = 9):\n",
    "    data['MACD']=data['Close'].ewm(span = short_period, adjust=False).mean() - data['Close'].ewm(span = long_period, adjust=False).mean() # macd = ema12 - ema26\n",
    "\n",
    "    data['SIG'] = data['MACD'].ewm(span = signal_period, adjust=False).mean()\n",
    "\n",
    "    data['Histogram'] = data['MACD'] - data['SIG']\n",
    "    return data\n",
    "\n",
    "def sma(data, period=20):\n",
    "    data['SMA'] = data['Close'].rolling(window=period, min_periods=0).mean()\n",
    "    return data\n",
    "\n",
    "def ema(data, period=20):\n",
    "    data['EMA'] = data['Close'].ewm(span = period, adjust=False).mean()\n",
    "    return data\n",
    "\n",
    "def bb(data, period=20):\n",
    "    data['Middle Band'] = data['Close'].rolling(window=period).mean()\n",
    "    data['Std Dev'] = data['Close'].rolling(window=period).std()  \n",
    "\n",
    "    data['Upper Band'] = data['Middle Band'] + (2 * data['Std Dev'])\n",
    "    data['Lower Band'] = data['Middle Band'] - (2 * data['Std Dev'])\n",
    "\n",
    "    return data.dropna()  # NaN values rmvd\n",
    "\n",
    "# def strat(data):\n",
    "#     # Create boolean conditions\n",
    "#     # data['BUY'] = ((data['RSI'] < 30) & (data['MACD']> data['SIG']) & (data['MACD']< data['Lower Band'])).astype(int) \n",
    "#     # data['SELL'] = ((data['RSI'] > 70) & (data['MACD']< data['SIG']) & (data['MACD']> data['Upper Band'])).astype(int)  \n",
    "#     # return data\n",
    "#     flag = 0;\n",
    "#     data[\"Strat\"] = 0\n",
    "#     data.loc[data[\"RSI\"] < 30, \"Strat\"] = 1\n",
    "#     data.loc[data[\"RSI\"] > 70, \"Strat\"] = 2\n",
    "#     return data\n",
    "\n",
    "def strat(data):\n",
    "    data[\"Strat\"] = 0  # Initialize strategy column\n",
    "    position = 0  # Track open positions (1 for long, 2 for short)\n",
    "\n",
    "    for i in range(len(data) - 1):  # Avoid last index error\n",
    "        if position == 0:  # No open position\n",
    "            if data[\"RSI\"].iloc[i] < 30:\n",
    "                data.at[data.index[i], \"Strat\"] = 1  # Open long\n",
    "                position = 1\n",
    "            elif data[\"RSI\"].iloc[i] > 70:\n",
    "                data.at[data.index[i], \"Strat\"] = 2  # Open short\n",
    "                position = 2\n",
    "\n",
    "        elif position == 1:  # Long position open\n",
    "            if data[\"RSI\"].iloc[i] > 50:  # RSI recovers → Close long\n",
    "                data.at[data.index[i], \"Strat\"] = -1\n",
    "                position = 0\n",
    "\n",
    "        elif position == 2:  # Short position open\n",
    "            if data[\"RSI\"].iloc[i] < 50:  # RSI drops → Close short\n",
    "                data.at[data.index[i], \"Strat\"] = -2\n",
    "                position = 0\n",
    "\n",
    "    return data\n",
    "\n",
    "\n",
    "# create a strategy in which when you buy (go long), you open with 1 and close with -1\n",
    "# create a strategy in which when you sell (go short), you open with 2 and close with -2\n",
    "# if(1 -> -1 when not fav otherwise 0)\n",
    "# if(2 -> -2 when not fav otherwise 0)\n",
    "\n",
    "tickers = [\"AAPL\", \"GOOGL\"]\n",
    "end_time = datetime.now().strftime(\"%Y-%m-%d\")\n",
    "start_time = \"2024-01-01\"\n",
    "\n",
    "for ticker in tickers:\n",
    "    data = yf.download(ticker, start=start_time, end=end_time)\n",
    "\n",
    "    data = calculate_rsi(data)\n",
    "    data = macd(data)\n",
    "    data = sma(data)\n",
    "    data = ema(data)\n",
    "    data = bb(data)\n",
    "\n",
    "    data['SELL'] = 0\n",
    "    data['BUY'] = 0\n",
    "    data['Strat'] = 0\n",
    "\n",
    "    data = strat(data)\n",
    "\n",
    "    print(data[['Close', 'RSI', 'MACD', 'SMA', 'EMA', 'Upper Band', 'Lower Band', 'Strat']].tail(5).round(2))\n",
    "# print(f\"Latest RSI: {latest_rsi:.2f}\")\n",
    "# if latest_rsi < 30:\n",
    "#     print(\"BUY\")\n",
    "# elif latest_rsi > 70:\n",
    "#     print(\"SELL\")\n",
    "# else:\n",
    "#     print(\"HOLD\")"
   ]
  }
 ],
 "metadata": {
  "kernelspec": {
   "display_name": "my_venv",
   "language": "python",
   "name": "python3"
  },
  "language_info": {
   "codemirror_mode": {
    "name": "ipython",
    "version": 3
   },
   "file_extension": ".py",
   "mimetype": "text/x-python",
   "name": "python",
   "nbconvert_exporter": "python",
   "pygments_lexer": "ipython3",
   "version": "3.13.3"
  }
 },
 "nbformat": 4,
 "nbformat_minor": 2
}
